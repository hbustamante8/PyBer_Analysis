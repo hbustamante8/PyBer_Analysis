{
 "cells": [
  {
   "cell_type": "code",
   "execution_count": 2,
   "id": "ca9c9277",
   "metadata": {},
   "outputs": [],
   "source": [
    "#Make sure plots are displayed inline with Jupyter Notebook\n",
    "%matplotlib inline\n"
   ]
  },
  {
   "cell_type": "code",
   "execution_count": 3,
   "id": "966fefc8",
   "metadata": {},
   "outputs": [],
   "source": [
    "# Import Dependencies \n",
    "import matplotlib.pyplot as plt"
   ]
  },
  {
   "cell_type": "code",
   "execution_count": null,
   "id": "e0928632",
   "metadata": {},
   "outputs": [],
   "source": [
    "# Set the x-axis to a list of strings for each month.\n",
    "x_axis = [\"Jan\", \"Feb\", \"Mar\", \"April\", \"May\", \"June\", \"July\", \"Aug\", \"Sept\", \"Oct\", \"Nov\", \"Dec\"]\n",
    "\n",
    "# Set the y-axis to a list of floats as the total fare in US dollars accumulated for each month.\n",
    "y_axis = [10.02, 23.24, 39.20, 35.42, 32.34, 27.04, 43.82, 10.56, 11.85, 27.90, 20.71, 20.09]"
   ]
  },
  {
   "cell_type": "code",
   "execution_count": null,
   "id": "0b4f5ddb",
   "metadata": {},
   "outputs": [],
   "source": [
    "#create the plot\n",
    "\n",
    "plt.plot(x_axis,y_axis)\n"
   ]
  },
  {
   "cell_type": "code",
   "execution_count": null,
   "id": "1c126057",
   "metadata": {},
   "outputs": [],
   "source": [
    "#create figure using Object Oriented Programming\n",
    "# Create the plot with ax.plt()\n",
    "fig, ax = plt.subplots()\n",
    "ax.plot(x_axis, y_axis)"
   ]
  },
  {
   "cell_type": "code",
   "execution_count": null,
   "id": "3bfbdeb0",
   "metadata": {},
   "outputs": [],
   "source": [
    "# Create the plot with ax.plt()\n",
    "fig = plt.figure()\n",
    "ax = fig.add_subplot()\n",
    "ax.plot(x_axis, y_axis)"
   ]
  },
  {
   "cell_type": "code",
   "execution_count": null,
   "id": "96bf8e5d",
   "metadata": {},
   "outputs": [],
   "source": [
    "# Create the plot with ax.plt()\n",
    "ax = plt.axes()\n",
    "ax.plot(x_axis, y_axis)"
   ]
  },
  {
   "cell_type": "code",
   "execution_count": null,
   "id": "dc639ecf",
   "metadata": {},
   "outputs": [],
   "source": [
    "plt.plot(x_axis,y_axis)\n",
    "plt.show()"
   ]
  },
  {
   "cell_type": "code",
   "execution_count": null,
   "id": "63c1781d",
   "metadata": {},
   "outputs": [],
   "source": [
    "#Create Plot and add a label for the legend \n",
    "plt.plot(x_axis,y_axis, label= 'Boston')\n",
    "\n",
    "#Create Labels for the x and y axes\n",
    "\n",
    "plt.xlabel(\"Date\")\n",
    "plt.ylabel(\"Fare($)\")\n",
    "#set the y limit between 0 and 45 \n",
    "plt.ylim(0,45)\n",
    "\n",
    "#Create a title \n",
    "plt.title(\"PyBer Fare by Month\")\n",
    "\n",
    "#Add the Legend\n",
    "\n",
    "plt.legend()"
   ]
  },
  {
   "cell_type": "code",
   "execution_count": null,
   "id": "1b771627",
   "metadata": {},
   "outputs": [],
   "source": [
    "# Create the plot.\n",
    "plt.plot(x_axis, y_axis, marker=\"*\", color=\"blue\", linewidth=2, label='Boston')\n",
    "# Create labels for the x and y axes.\n",
    "plt.xlabel(\"Date\")\n",
    "plt.ylabel(\"Fare($)\")\n",
    "# Set the y limit between 0 and 45.\n",
    "plt.ylim(0, 45)\n",
    "# Create a title.\n",
    "plt.title(\"PyBer Fare by Month\")\n",
    "# Add a grid.\n",
    "plt.grid()\n",
    "# Add the legend.\n",
    "plt.legend()"
   ]
  },
  {
   "cell_type": "code",
   "execution_count": null,
   "id": "2b85b719",
   "metadata": {},
   "outputs": [],
   "source": [
    "ax = plt.axes()\n",
    "ax.plot(x_axis,y_axis,marker = \"*\", color = \"green\", linewidth=2,label = \"Boston\")\n",
    "ax.set_title(\"Per Fare by Month\")\n",
    "ax.set_ylim(0,45)\n",
    "ax.grid()\n",
    "ax.legend()\n",
    "ax.plot(x_axis,y_axis)"
   ]
  },
  {
   "cell_type": "code",
   "execution_count": null,
   "id": "b2fff903",
   "metadata": {},
   "outputs": [],
   "source": [
    "# Set the x-axis to a list of strings for each month.\n",
    "x_axis = [\"Jan\", \"Feb\", \"Mar\", \"April\", \"May\", \"June\", \"July\", \"Aug\", \"Sept\", \"Oct\", \"Nov\", \"Dec\"]\n",
    "\n",
    "# Set the y-axis to a list of floats as the total fare in US dollars accumulated for each month.\n",
    "y_axis = [10.02, 23.24, 39.20, 35.42, 32.34, 27.04, 43.82, 10.56, 11.85, 27.90, 20.71, 20.09]"
   ]
  },
  {
   "cell_type": "code",
   "execution_count": null,
   "id": "94a8b6a2",
   "metadata": {},
   "outputs": [],
   "source": [
    "#create the plot\n",
    "plt.bar(x_axis, y_axis)"
   ]
  },
  {
   "cell_type": "code",
   "execution_count": null,
   "id": "df70da8a",
   "metadata": {},
   "outputs": [],
   "source": [
    "# Create the plot.\n",
    "plt.bar(x_axis, y_axis, color=\"green\", label='Boston')\n",
    "# Create labels for the x and y axes.\n",
    "plt.xlabel(\"Date\")\n",
    "plt.ylabel(\"Fare($)\")\n",
    "# Create a title.\n",
    "plt.title(\"PyBer Fare by Month\")\n",
    "# Add the legend.\n",
    "plt.legend()"
   ]
  },
  {
   "cell_type": "code",
   "execution_count": null,
   "id": "7b6effd8",
   "metadata": {},
   "outputs": [],
   "source": [
    "#Create the plot\n",
    "plt.barh(x_axis,y_axis, color = \"magenta\",label = \"Boston\")\n",
    "plt.title(\"PyBer Fare by Month\")\n",
    "plt.xlabel(\"Fare($)\")\n",
    "plt.ylabel(\"Date\")\n",
    "plt.legend()\n",
    "plt.gca().invert_yaxis()"
   ]
  },
  {
   "cell_type": "code",
   "execution_count": null,
   "id": "6636ac59",
   "metadata": {},
   "outputs": [],
   "source": [
    "# Set the x-axis to a list of strings for each month.\n",
    "x_axis = [\"Jan\", \"Feb\", \"Mar\", \"April\", \"May\", \"June\", \"July\", \"Aug\", \"Sept\", \"Oct\", \"Nov\", \"Dec\"]\n",
    "\n",
    "# Set the y-axis to a list of floats as the total fare in US dollars accumulated for each month.\n",
    "y_axis = [10.02, 23.24, 39.20, 35.42, 32.34, 27.04, 43.82, 10.56, 11.85, 27.90, 20.71, 20.09]"
   ]
  },
  {
   "cell_type": "code",
   "execution_count": null,
   "id": "e3106a3f",
   "metadata": {},
   "outputs": [],
   "source": [
    "#Create the plot with ax.plt()\n",
    "fig, ax = plt.subplots()\n",
    "ax.bar(x_axis, y_axis)\n",
    "ax.gca().invert_"
   ]
  },
  {
   "cell_type": "code",
   "execution_count": null,
   "id": "610a2979",
   "metadata": {},
   "outputs": [],
   "source": [
    "# Create the plot with ax.plt()\n",
    "fig, ax = plt.subplots()\n",
    "ax.barh(x_axis, y_axis,color = \"cyan\", label = \"Chicago\")\n",
    "#ax.title(\"PyBer Fare by Month\")\n",
    "plt.xlabel(\"Fare($)\")\n",
    "plt.ylabel(\"Date\")\n",
    "plt.legend()\n",
    "plt.gca().invert_yaxis()"
   ]
  },
  {
   "cell_type": "code",
   "execution_count": 4,
   "id": "d3214355",
   "metadata": {},
   "outputs": [],
   "source": [
    "# Set the x-axis to a list of strings for each month.\n",
    "x_axis = [\"Jan\", \"Feb\", \"Mar\", \"April\", \"May\", \"June\", \"July\", \"Aug\", \"Sept\", \"Oct\", \"Nov\", \"Dec\"]\n",
    "\n",
    "# Set the y-axis to a list of floats as the total fare in US dollars accumulated for each month.\n",
    "y_axis = [10.02, 23.24, 39.20, 35.42, 32.34, 27.04, 43.82, 10.56, 11.85, 27.90, 20.71, 20.09]"
   ]
  },
  {
   "cell_type": "code",
   "execution_count": null,
   "id": "e26fe8fd",
   "metadata": {},
   "outputs": [],
   "source": [
    "# Using plt.plot to make a scatter\n",
    "plt.plot(x_axis, y_axis, 'o')"
   ]
  },
  {
   "cell_type": "code",
   "execution_count": null,
   "id": "0d0c8a4f",
   "metadata": {},
   "outputs": [],
   "source": [
    "#Using plt.scatter to make scatter\n",
    "plt.scatter(y_axis, x_axis,c=\"red\",label = \"Chicago\")\n",
    "plt.legend()\n",
    "plt.title(\"PyBer Fare by Month\")\n",
    "plt.xlabel(\"Fare($)\")\n",
    "plt.xlim(0,50)\n",
    "plt.ylabel(\"Date\")\n",
    "plt.gca().invert_yaxis()\n"
   ]
  },
  {
   "cell_type": "code",
   "execution_count": null,
   "id": "1fd5d1a1",
   "metadata": {},
   "outputs": [],
   "source": [
    "#Increase the size of the marks by 3 \n",
    "y_axis_larger = []\n",
    "\n",
    "for data in y_axis:\n",
    "    y_axis_larger.append(data *3)\n",
    "plt.scatter(x_axis, y_axis, s=y_axis_larger)"
   ]
  },
  {
   "cell_type": "code",
   "execution_count": null,
   "id": "6cc4c0d9",
   "metadata": {},
   "outputs": [],
   "source": [
    "# opposite way of increasing the size of mark by 3\n",
    "\n",
    "plt.scatter(x_axis, y_axis, s = [i * 3 for i in y_axis])\n"
   ]
  },
  {
   "cell_type": "code",
   "execution_count": null,
   "id": "6d1dbfce",
   "metadata": {},
   "outputs": [],
   "source": [
    "# Create scatter plot using object-oriented interface\n",
    "fig, ax = plt.subplots()\n",
    "ax.scatter(x_axis, y_axis)"
   ]
  },
  {
   "cell_type": "code",
   "execution_count": null,
   "id": "bbff6d44",
   "metadata": {},
   "outputs": [],
   "source": [
    "#Create bubble chart using object-oriented interface \n",
    "fig, ax = plt.subplots()\n",
    "ax.scatter(x_axis, y_axis, s= [i * 5 for i in y_axis])"
   ]
  },
  {
   "cell_type": "code",
   "execution_count": null,
   "id": "988fa969",
   "metadata": {},
   "outputs": [],
   "source": [
    "#Create pie chart using matplotlib\n",
    "plt.pie(y_axis, labels=x_axis)\n",
    "plt.show()"
   ]
  },
  {
   "cell_type": "code",
   "execution_count": 6,
   "id": "1f016ebd",
   "metadata": {},
   "outputs": [
    {
     "data": {
      "image/png": "[encoded data removed]",
      "text/plain": [
       "<Figure size 576x576 with 1 Axes>"
      ]
     },
     "metadata": {},
     "output_type": "display_data"
    }
   ],
   "source": [
    "plt.subplots(figsize=(8,8))\n",
    "colors = [\"slateblue\", \"magenta\", \"lightblue\", \"green\", \"yellowgreen\", \"greenyellow\", \"yellow\", \"orange\", \"gold\", \"indianred\", \"tomato\", \"mistyrose\"]\n",
    "explode_values = (0, 0, 0, 0, 0, 0, 0.2, 0, 0, 0, 0, 0)\n",
    "plt.pie(y_axis, explode=explode_values, labels=x_axis,colors=colors, autopct='%.1f%%')\n",
    "plt.show()"
   ]
  },
  {
   "cell_type": "code",
   "execution_count": 10,
   "id": "61f5d1e4",
   "metadata": {},
   "outputs": [
    {
     "data": {
      "text/plain": [
       "([<matplotlib.patches.Wedge at 0x7ff332566b20>,\n",
       "  <matplotlib.patches.Wedge at 0x7ff310b12fd0>,\n",
       "  <matplotlib.patches.Wedge at 0x7ff310b1f730>,\n",
       "  <matplotlib.patches.Wedge at 0x7ff310b1fe50>,\n",
       "  <matplotlib.patches.Wedge at 0x7ff310b2c5b0>,\n",
       "  <matplotlib.patches.Wedge at 0x7ff310b2ccd0>,\n",
       "  <matplotlib.patches.Wedge at 0x7ff310b3a430>,\n",
       "  <matplotlib.patches.Wedge at 0x7ff310b3ab50>,\n",
       "  <matplotlib.patches.Wedge at 0x7ff310b472b0>,\n",
       "  <matplotlib.patches.Wedge at 0x7ff310b479d0>,\n",
       "  <matplotlib.patches.Wedge at 0x7ff310b53130>,\n",
       "  <matplotlib.patches.Wedge at 0x7ff310b53850>],\n",
       " [Text(1.0940372721655667, 0.11437852557419124, 'Jan'),\n",
       "  Text(0.9905193092273052, 0.4784051609753622, 'Feb'),\n",
       "  Text(0.5907474957304654, 1.1580230551626267, 'Mar'),\n",
       "  Text(-0.32930826971286276, 1.0495504101750999, 'April'),\n",
       "  Text(-0.9306200792045569, 0.5864693241605263, 'May'),\n",
       "  Text(-1.0983369533258995, -0.06046434452452757, 'June'),\n",
       "  Text(-0.913463027456946, -0.9249785389235748, 'July'),\n",
       "  Text(-0.23338752507546193, -1.0749559354406817, 'Aug'),\n",
       "  Text(0.021097559209412746, -1.099797660024518, 'Sept'),\n",
       "  Text(0.460981299980763, -0.9987473359504124, 'Oct'),\n",
       "  Text(0.8868706338501641, -0.6507384104340302, 'Nov'),\n",
       "  Text(1.0760953148482877, -0.22807646384834376, 'Dec')],\n",
       " [Text(0.5967476029993999, 0.06238828667683158, '3.3%'),\n",
       "  Text(0.5402832595785301, 0.2609482696229248, '7.7%'),\n",
       "  Text(0.36353692044951713, 0.7126295724077703, '13.0%'),\n",
       "  Text(-0.17962269257065241, 0.5724820419136908, '11.7%'),\n",
       "  Text(-0.5076109522933946, 0.3198923586330143, '10.7%'),\n",
       "  Text(-0.5990928836323088, -0.03298055155883321, '8.9%'),\n",
       "  Text(-0.562131093819659, -0.5692175624145076, '14.5%'),\n",
       "  Text(-0.1273022864047974, -0.5863396011494626, '3.5%'),\n",
       "  Text(0.011507759568770587, -0.5998896327406462, '3.9%'),\n",
       "  Text(0.2514443454440525, -0.5447712741547703, '9.2%'),\n",
       "  Text(0.4837476184637258, -0.35494822387310737, '6.9%'),\n",
       "  Text(0.5869610808263387, -0.12440534391727841, '6.6%')])"
      ]
     },
     "execution_count": 10,
     "metadata": {},
     "output_type": "execute_result"
    },
    {
     "data": {
      "image/png": "[encoded data removed]",
      "text/plain": [
       "<Figure size 576x576 with 1 Axes>"
      ]
     },
     "metadata": {
      "needs_background": "light"
     },
     "output_type": "display_data"
    },
    {
     "data": {
      "image/png": "[encoded data removed]",
      "text/plain": [
       "<Figure size 432x288 with 1 Axes>"
      ]
     },
     "metadata": {},
     "output_type": "display_data"
    }
   ],
   "source": [
    "#Create Pie chart using Object-Oriented Programming\n",
    "plt.subplots(figsize=(8,8))\n",
    "explode_values2 = (0,0,0.2,0,0,0,0.2,0,0,0,0,0)\n",
    "fig, ax = plt.subplots()\n",
    "ax.pie(y_axis,labels=x_axis,explode=explode_values2,colors=colors, autopct='%.1f%%')\n"
   ]
  },
  {
   "cell_type": "code",
   "execution_count": null,
   "id": "08249abf",
   "metadata": {},
   "outputs": [],
   "source": []
  },
  {
   "cell_type": "code",
   "execution_count": null,
   "id": "17122eb1",
   "metadata": {},
   "outputs": [],
   "source": []
  },
  {
   "cell_type": "code",
   "execution_count": null,
   "id": "dcede709",
   "metadata": {},
   "outputs": [],
   "source": []
  },
  {
   "cell_type": "code",
   "execution_count": null,
   "id": "6a52e265",
   "metadata": {},
   "outputs": [],
   "source": []
  }
 ],
 "metadata": {
  "kernelspec": {
   "display_name": "PythonData",
   "language": "python",
   "name": "pythondata"
  },
  "language_info": {
   "codemirror_mode": {
    "name": "ipython",
    "version": 3
   },
   "file_extension": ".py",
   "mimetype": "text/x-python",
   "name": "python",
   "nbconvert_exporter": "python",
   "pygments_lexer": "ipython3",
   "version": "3.9.7"
  }
 },
 "nbformat": 4,
 "nbformat_minor": 5
}
